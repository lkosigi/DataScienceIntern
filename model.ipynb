{
 "cells": [
  {
   "cell_type": "code",
   "execution_count": 343,
   "metadata": {
    "scrolled": true
   },
   "outputs": [],
   "source": [
    "import pandas as pd\n",
    "import numpy as np\n",
    "import matplotlib.pyplot as plt\n",
    "import pickle"
   ]
  },
  {
   "cell_type": "code",
   "execution_count": 344,
   "metadata": {
    "scrolled": true
   },
   "outputs": [],
   "source": [
    "df = pd.read_excel(\"Data_Science_2020_v2.xlsx\")"
   ]
  },
  {
   "cell_type": "code",
   "execution_count": null,
   "metadata": {
    "scrolled": true
   },
   "outputs": [],
   "source": [
    "#df.head()\n",
    "#df.count()\n",
    "#df.isnull().sum()"
   ]
  },
  {
   "cell_type": "markdown",
   "metadata": {},
   "source": [
    "## Handle missing values"
   ]
  },
  {
   "cell_type": "code",
   "execution_count": 345,
   "metadata": {
    "scrolled": true
   },
   "outputs": [],
   "source": [
    "#handle missing values for other skills\n",
    "df[\"Other skills\"] = df['Other skills'].fillna('')"
   ]
  },
  {
   "cell_type": "code",
   "execution_count": 346,
   "metadata": {
    "scrolled": true
   },
   "outputs": [
    {
     "data": {
      "text/plain": [
       "Bachelor of Technology (B.Tech)                              168\n",
       "Bachelor of Engineering (B.E)                                139\n",
       "Master of Technology (M.Tech)                                 38\n",
       "Master of Science (M.Sc)                                      33\n",
       "Master of Computer Applications (MCA)                         32\n",
       "B.Tech (Hons.)                                                28\n",
       "PG Diploma in Data Science                                    21\n",
       "Bachelor of Science (B.Sc)                                    17\n",
       "Post Graduate Programme (PGP)                                 16\n",
       "MBA                                                           14\n",
       "Bachelor of Commerce (B.Com)                                   6\n",
       "Integrated M.Sc.                                               5\n",
       "Bachelor of Computer Applications (BCA)                        4\n",
       "Integrated B.Tech                                              4\n",
       "Post Graduate Diploma                                          4\n",
       "Master of Science (M.Sc) (Hons.)                               4\n",
       "Integrated M.Tech                                              3\n",
       "Master of Science (M.S.)                                       3\n",
       "Integrated B.Tech & M.Tech                                     3\n",
       "Post Graduate Diploma in Management (P.G.D.M.)                 3\n",
       "Master of Arts (M.A.)                                          3\n",
       "Master of Business Administration_(MBA)                        3\n",
       "Bachelor of Computer Science (B.C.S.)                          2\n",
       "Bachelor of Science (B.Sc) (Hons.)                             2\n",
       "Master of Statistics (M.Stat)                                  2\n",
       "Master Of Analytics                                            2\n",
       "B.Com. Professional                                            1\n",
       "Bachelor of Mathematics (B.Math) (Hons.)                       1\n",
       "Post Graduate Diploma in Big Data Analytics (PG-DBDA)          1\n",
       "Bachelor of Engineering (B.E) (Hons.)                          1\n",
       "Integrated B.Tech & MBA                                        1\n",
       "Bachelor of Commerce (B.Com) (Hons.)                           1\n",
       "Bachelor of Business Administration (B.B.A.)                   1\n",
       "Executive MBA                                                  1\n",
       "Bachelor of Business Management (B.B.M.)                       1\n",
       "Integrated B.S. & M.S.                                         1\n",
       "Integrated B.Sc. & M.Sc.                                       1\n",
       "Integrated MCA                                                 1\n",
       "Bachelor of Pharmacy (B.Pharm)                                 1\n",
       "Master of Engineering (M.E)                                    1\n",
       "Post Graduate Program in Business Analytics                    1\n",
       "Post Graduate Diploma in Business Management (P.G.D.B.M.)      1\n",
       "Name: Degree, dtype: int64"
      ]
     },
     "execution_count": 346,
     "metadata": {},
     "output_type": "execute_result"
    }
   ],
   "source": [
    "# for Degree\n",
    "df[\"Degree\"].value_counts()"
   ]
  },
  {
   "cell_type": "code",
   "execution_count": 347,
   "metadata": {
    "scrolled": true
   },
   "outputs": [],
   "source": [
    "# we will with empty cells with the majority\n",
    "# from the value_counts we see that B.Tech is the most common degree\n",
    "# hence use that value\n",
    "df['Degree'] = df['Degree'].fillna(\"Bachelor of Technology (B.Tech)\")"
   ]
  },
  {
   "cell_type": "code",
   "execution_count": 348,
   "metadata": {
    "scrolled": true
   },
   "outputs": [],
   "source": [
    "#df[\"Python (out of 3)\"].value_counts()"
   ]
  },
  {
   "cell_type": "markdown",
   "metadata": {},
   "source": [
    "## Feature Extraction/Engineering"
   ]
  },
  {
   "cell_type": "code",
   "execution_count": 349,
   "metadata": {},
   "outputs": [],
   "source": [
    "# convert the rating into score/weights"
   ]
  },
  {
   "cell_type": "code",
   "execution_count": 350,
   "metadata": {
    "scrolled": true
   },
   "outputs": [],
   "source": [
    "def rating_to_weighs(rating):\n",
    "    if rating == 3:\n",
    "        return 10\n",
    "    elif rating == 2:\n",
    "        return 7\n",
    "    elif rating == 1:\n",
    "        return 3\n",
    "    else:\n",
    "        return 0"
   ]
  },
  {
   "cell_type": "code",
   "execution_count": 351,
   "metadata": {
    "scrolled": true
   },
   "outputs": [],
   "source": [
    "df[\"Weight\"] = df[\"Python (out of 3)\"].map(rating_to_weighs)"
   ]
  },
  {
   "cell_type": "code",
   "execution_count": 352,
   "metadata": {
    "scrolled": true
   },
   "outputs": [],
   "source": [
    "df[\"Weight\"] += df[\"R Programming (out of 3)\"].map(rating_to_weighs)"
   ]
  },
  {
   "cell_type": "code",
   "execution_count": 353,
   "metadata": {
    "scrolled": true
   },
   "outputs": [],
   "source": [
    "df[\"Weight\"] += df[\"Data Science (out of 3)\"].map(rating_to_weighs)"
   ]
  },
  {
   "cell_type": "code",
   "execution_count": 354,
   "metadata": {},
   "outputs": [
    {
     "data": {
      "text/html": [
       "<div>\n",
       "<style scoped>\n",
       "    .dataframe tbody tr th:only-of-type {\n",
       "        vertical-align: middle;\n",
       "    }\n",
       "\n",
       "    .dataframe tbody tr th {\n",
       "        vertical-align: top;\n",
       "    }\n",
       "\n",
       "    .dataframe thead th {\n",
       "        text-align: right;\n",
       "    }\n",
       "</style>\n",
       "<table border=\"1\" class=\"dataframe\">\n",
       "  <thead>\n",
       "    <tr style=\"text-align: right;\">\n",
       "      <th></th>\n",
       "      <th>Application_ID</th>\n",
       "      <th>Current City</th>\n",
       "      <th>Python (out of 3)</th>\n",
       "      <th>R Programming (out of 3)</th>\n",
       "      <th>Data Science (out of 3)</th>\n",
       "      <th>Other skills</th>\n",
       "      <th>Institute</th>\n",
       "      <th>Degree</th>\n",
       "      <th>Stream</th>\n",
       "      <th>Current Year Of Graduation</th>\n",
       "      <th>Performance_PG</th>\n",
       "      <th>Performance_UG</th>\n",
       "      <th>Performance_12</th>\n",
       "      <th>Performance_10</th>\n",
       "      <th>Weight</th>\n",
       "    </tr>\n",
       "  </thead>\n",
       "  <tbody>\n",
       "    <tr>\n",
       "      <th>0</th>\n",
       "      <td>DS0001</td>\n",
       "      <td>Bangalore</td>\n",
       "      <td>1</td>\n",
       "      <td>0</td>\n",
       "      <td>3</td>\n",
       "      <td>Machine Learning, Arduino, C Programming, CSS,...</td>\n",
       "      <td>Global Academy of Technology</td>\n",
       "      <td>Bachelor of Engineering (B.E)</td>\n",
       "      <td>Electrical and Electronics Engineering</td>\n",
       "      <td>2019</td>\n",
       "      <td>NaN</td>\n",
       "      <td>7.73/10</td>\n",
       "      <td>NaN</td>\n",
       "      <td>NaN</td>\n",
       "      <td>13</td>\n",
       "    </tr>\n",
       "    <tr>\n",
       "      <th>1</th>\n",
       "      <td>DS0002</td>\n",
       "      <td>Mumbai</td>\n",
       "      <td>2</td>\n",
       "      <td>1</td>\n",
       "      <td>2</td>\n",
       "      <td>AutoCAD, MS-Office, Machine Learning, Microsof...</td>\n",
       "      <td>Aegis School Of Business, Data Science, Cyber ...</td>\n",
       "      <td>Bachelor of Technology (B.Tech)</td>\n",
       "      <td>PGP</td>\n",
       "      <td>2020</td>\n",
       "      <td>NaN</td>\n",
       "      <td>68.00/100</td>\n",
       "      <td>NaN</td>\n",
       "      <td>NaN</td>\n",
       "      <td>17</td>\n",
       "    </tr>\n",
       "    <tr>\n",
       "      <th>2</th>\n",
       "      <td>DS0003</td>\n",
       "      <td>Mumbai</td>\n",
       "      <td>2</td>\n",
       "      <td>0</td>\n",
       "      <td>0</td>\n",
       "      <td>C++ Programming, Data Structures, Image Proces...</td>\n",
       "      <td>VJTI, Mumbai</td>\n",
       "      <td>Bachelor of Technology (B.Tech)</td>\n",
       "      <td>Information Systems</td>\n",
       "      <td>2018</td>\n",
       "      <td>NaN</td>\n",
       "      <td>8.85/10</td>\n",
       "      <td>91.40/91.40</td>\n",
       "      <td>9.40/9.40</td>\n",
       "      <td>7</td>\n",
       "    </tr>\n",
       "    <tr>\n",
       "      <th>3</th>\n",
       "      <td>DS0004</td>\n",
       "      <td>Dhanbad</td>\n",
       "      <td>2</td>\n",
       "      <td>0</td>\n",
       "      <td>2</td>\n",
       "      <td>Algorithms, C++ Programming, Data Structures, ...</td>\n",
       "      <td>IIT (ISM) Dhanbad</td>\n",
       "      <td>Integrated M.Tech</td>\n",
       "      <td>Mathematics and Computing</td>\n",
       "      <td>2021</td>\n",
       "      <td>NaN</td>\n",
       "      <td>8.40/10</td>\n",
       "      <td>91.80/91.80</td>\n",
       "      <td>10.00/10.00</td>\n",
       "      <td>14</td>\n",
       "    </tr>\n",
       "    <tr>\n",
       "      <th>4</th>\n",
       "      <td>DS0005</td>\n",
       "      <td>Bangalore</td>\n",
       "      <td>2</td>\n",
       "      <td>0</td>\n",
       "      <td>0</td>\n",
       "      <td>MS-Word, Python, SQL, MS-Excel</td>\n",
       "      <td>Vvce</td>\n",
       "      <td>Bachelor of Engineering (B.E)</td>\n",
       "      <td>Electronics and Communication</td>\n",
       "      <td>2018</td>\n",
       "      <td>NaN</td>\n",
       "      <td>NaN</td>\n",
       "      <td>NaN</td>\n",
       "      <td>NaN</td>\n",
       "      <td>7</td>\n",
       "    </tr>\n",
       "  </tbody>\n",
       "</table>\n",
       "</div>"
      ],
      "text/plain": [
       "  Application_ID Current City  Python (out of 3)  R Programming (out of 3)  \\\n",
       "0         DS0001    Bangalore                  1                         0   \n",
       "1         DS0002       Mumbai                  2                         1   \n",
       "2         DS0003       Mumbai                  2                         0   \n",
       "3         DS0004      Dhanbad                  2                         0   \n",
       "4         DS0005    Bangalore                  2                         0   \n",
       "\n",
       "   Data Science (out of 3)                                       Other skills  \\\n",
       "0                        3  Machine Learning, Arduino, C Programming, CSS,...   \n",
       "1                        2  AutoCAD, MS-Office, Machine Learning, Microsof...   \n",
       "2                        0  C++ Programming, Data Structures, Image Proces...   \n",
       "3                        2  Algorithms, C++ Programming, Data Structures, ...   \n",
       "4                        0                     MS-Word, Python, SQL, MS-Excel   \n",
       "\n",
       "                                           Institute  \\\n",
       "0                       Global Academy of Technology   \n",
       "1  Aegis School Of Business, Data Science, Cyber ...   \n",
       "2                                       VJTI, Mumbai   \n",
       "3                                  IIT (ISM) Dhanbad   \n",
       "4                                               Vvce   \n",
       "\n",
       "                            Degree                                  Stream  \\\n",
       "0    Bachelor of Engineering (B.E)  Electrical and Electronics Engineering   \n",
       "1  Bachelor of Technology (B.Tech)                                     PGP   \n",
       "2  Bachelor of Technology (B.Tech)                     Information Systems   \n",
       "3                Integrated M.Tech               Mathematics and Computing   \n",
       "4    Bachelor of Engineering (B.E)           Electronics and Communication   \n",
       "\n",
       "   Current Year Of Graduation Performance_PG Performance_UG Performance_12  \\\n",
       "0                        2019            NaN        7.73/10            NaN   \n",
       "1                        2020            NaN      68.00/100            NaN   \n",
       "2                        2018            NaN        8.85/10    91.40/91.40   \n",
       "3                        2021            NaN        8.40/10    91.80/91.80   \n",
       "4                        2018            NaN            NaN            NaN   \n",
       "\n",
       "  Performance_10  Weight  \n",
       "0            NaN      13  \n",
       "1            NaN      17  \n",
       "2      9.40/9.40       7  \n",
       "3    10.00/10.00      14  \n",
       "4            NaN       7  "
      ]
     },
     "execution_count": 354,
     "metadata": {},
     "output_type": "execute_result"
    }
   ],
   "source": [
    "df.head()"
   ]
  },
  {
   "cell_type": "code",
   "execution_count": 355,
   "metadata": {},
   "outputs": [],
   "source": [
    "# extract skills from column and add to the weight column"
   ]
  },
  {
   "cell_type": "code",
   "execution_count": 356,
   "metadata": {
    "scrolled": true
   },
   "outputs": [],
   "source": [
    "def otherskill_to_score(skills):\n",
    "    score=0\n",
    "    if \"Machine Learning\" in skills:\n",
    "        score +=3\n",
    "    if \"Deep Learning\" in skills:\n",
    "        score +=3\n",
    "    if \"NLP\" in skills:\n",
    "        score +=3\n",
    "    if \"Statistical Modeling\" in skills :\n",
    "        score +=3\n",
    "    if \"AWS\" in skills:\n",
    "        score +=3\n",
    "    if \"SQL\" in skills:\n",
    "        score +=3\n",
    "    if \"NoSQL\" in skills:\n",
    "        score +=3\n",
    "    if \"Excel\" in skills:\n",
    "        score +=3\n",
    "    return score"
   ]
  },
  {
   "cell_type": "code",
   "execution_count": 357,
   "metadata": {
    "scrolled": true
   },
   "outputs": [],
   "source": [
    "df['Weight'] += df[\"Other skills\"].map(otherskill_to_score)"
   ]
  },
  {
   "cell_type": "code",
   "execution_count": 358,
   "metadata": {},
   "outputs": [],
   "source": [
    "# group the Degree into UG and PG for easy analysis\n",
    "# from the data we see 6 catergories"
   ]
  },
  {
   "cell_type": "code",
   "execution_count": 359,
   "metadata": {
    "scrolled": true
   },
   "outputs": [],
   "source": [
    "def degree_to_score(degree):\n",
    "    type=\"\"\n",
    "    if \"Bachelor\" in degree:\n",
    "        type=\"UG\"\n",
    "    elif \"Master\" in degree:\n",
    "        type=\"PG\"\n",
    "    elif \"MBA\" in degree:\n",
    "        type=\"PG\"\n",
    "    elif \"B.Tech\" in degree:\n",
    "        type=\"UG\"\n",
    "    elif \"Post Graduate\" in degree or \"PG\" in degree:\n",
    "        type=\"PG\"\n",
    "    elif \"Integrated\" in degree or \"PG\" in degree:\n",
    "        type=\"PG\"\n",
    "    else:\n",
    "        type=\"UG\"\n",
    "    return type\n",
    "        "
   ]
  },
  {
   "cell_type": "code",
   "execution_count": 360,
   "metadata": {
    "scrolled": true
   },
   "outputs": [],
   "source": [
    "df[\"type_of_degree\"] = df['Degree'].map(degree_to_score)"
   ]
  },
  {
   "cell_type": "code",
   "execution_count": 361,
   "metadata": {
    "scrolled": true
   },
   "outputs": [
    {
     "data": {
      "text/plain": [
       "UG    416\n",
       "PG    195\n",
       "Name: type_of_degree, dtype: int64"
      ]
     },
     "execution_count": 361,
     "metadata": {},
     "output_type": "execute_result"
    }
   ],
   "source": [
    "df['type_of_degree'].value_counts()"
   ]
  },
  {
   "cell_type": "code",
   "execution_count": 362,
   "metadata": {},
   "outputs": [],
   "source": [
    "# now add weights based on the type of degree and year of graduation"
   ]
  },
  {
   "cell_type": "code",
   "execution_count": 363,
   "metadata": {
    "scrolled": true
   },
   "outputs": [],
   "source": [
    "def degree_type_year_to_score(degree_type, year):\n",
    "    score = 0\n",
    "    if degree_type == \"UG\" and year == 2020:\n",
    "        score = 10\n",
    "    elif degree_type == \"UG\" and year == 2019:\n",
    "        score = 8\n",
    "    elif degree_type == \"UG\" and year <= 2018:\n",
    "        score = 5\n",
    "    elif degree_type == \"PG\" and year == 2020:\n",
    "        score = 7 \n",
    "    elif degree_type == \"PG\" and year <= 2019:\n",
    "        score = 3\n",
    "    else:\n",
    "        score = 0\n",
    "    return score"
   ]
  },
  {
   "cell_type": "code",
   "execution_count": 364,
   "metadata": {
    "scrolled": true
   },
   "outputs": [],
   "source": [
    "df['Weight'] += df.apply(lambda x: degree_type_year_to_score(x['type_of_degree'], x['Current Year Of Graduation']), axis=1)"
   ]
  },
  {
   "cell_type": "code",
   "execution_count": 365,
   "metadata": {
    "scrolled": true
   },
   "outputs": [
    {
     "data": {
      "text/plain": [
       "Application_ID                35\n",
       "Current City                  35\n",
       "Python (out of 3)             35\n",
       "R Programming (out of 3)      35\n",
       "Data Science (out of 3)       35\n",
       "Other skills                  35\n",
       "Institute                     35\n",
       "Degree                        35\n",
       "Stream                        35\n",
       "Current Year Of Graduation    35\n",
       "Performance_PG                 0\n",
       "Performance_UG                32\n",
       "Performance_12                20\n",
       "Performance_10                21\n",
       "Weight                        35\n",
       "type_of_degree                35\n",
       "dtype: int64"
      ]
     },
     "execution_count": 365,
     "metadata": {},
     "output_type": "execute_result"
    }
   ],
   "source": [
    "df[df[\"Weight\"]>=40].count()"
   ]
  },
  {
   "cell_type": "code",
   "execution_count": 366,
   "metadata": {},
   "outputs": [],
   "source": [
    "#Create labels now, Greater than or equal to 40 are selected, and rest are not qualified"
   ]
  },
  {
   "cell_type": "code",
   "execution_count": 367,
   "metadata": {
    "scrolled": true
   },
   "outputs": [],
   "source": [
    "def map_selected(weight):\n",
    "    if weight >= 40:\n",
    "        return 1\n",
    "    else:\n",
    "        return 0"
   ]
  },
  {
   "cell_type": "code",
   "execution_count": 368,
   "metadata": {},
   "outputs": [],
   "source": [
    "# After labelling data according tothe weights next,\n",
    "#Preparing the data for modelling\n",
    "# Here convert skills in text form to numerics to feed to the model, either using get_dummies() or map\n"
   ]
  },
  {
   "cell_type": "code",
   "execution_count": 369,
   "metadata": {
    "scrolled": true
   },
   "outputs": [],
   "source": [
    "df = pd.get_dummies(data=df, columns=['type_of_degree'])"
   ]
  },
  {
   "cell_type": "code",
   "execution_count": 370,
   "metadata": {
    "scrolled": true
   },
   "outputs": [],
   "source": [
    "def ml_to_dummy(skills):\n",
    "    if \"Machine Learning\" in skills:\n",
    "        return 1\n",
    "    else :\n",
    "        return 0\n",
    "    "
   ]
  },
  {
   "cell_type": "code",
   "execution_count": 371,
   "metadata": {
    "scrolled": true
   },
   "outputs": [],
   "source": [
    "df[\"ML\"]= df['Other skills'].map(ml_to_dummy)\n"
   ]
  },
  {
   "cell_type": "code",
   "execution_count": 372,
   "metadata": {},
   "outputs": [],
   "source": [
    "def dl_to_dummy(skills):\n",
    "    if \"Deep Learning\" in skills:\n",
    "        return 1\n",
    "    else :\n",
    "        return 0"
   ]
  },
  {
   "cell_type": "code",
   "execution_count": 373,
   "metadata": {},
   "outputs": [],
   "source": [
    "df[\"DL\"]= df['Other skills'].map(dl_to_dummy)"
   ]
  },
  {
   "cell_type": "code",
   "execution_count": 374,
   "metadata": {},
   "outputs": [],
   "source": [
    "def nlp_to_dummy(skills):\n",
    "    if \"NLP\" in skills:\n",
    "        return 1\n",
    "    else :\n",
    "        return 0"
   ]
  },
  {
   "cell_type": "code",
   "execution_count": 375,
   "metadata": {},
   "outputs": [],
   "source": [
    "df[\"NLP\"]= df['Other skills'].map(nlp_to_dummy)"
   ]
  },
  {
   "cell_type": "code",
   "execution_count": 376,
   "metadata": {},
   "outputs": [],
   "source": [
    "def sm_to_dummy(skills):\n",
    "    if \"Statistical modeling\" in skills:\n",
    "        return 1\n",
    "    else :\n",
    "        return 0"
   ]
  },
  {
   "cell_type": "code",
   "execution_count": 377,
   "metadata": {},
   "outputs": [],
   "source": [
    "df[\"SM\"]= df['Other skills'].map(sm_to_dummy)"
   ]
  },
  {
   "cell_type": "code",
   "execution_count": 378,
   "metadata": {},
   "outputs": [],
   "source": [
    "def aws_to_dummy(skills):\n",
    "    if \"AWS\" in skills:\n",
    "        return 1\n",
    "    else :\n",
    "        return 0"
   ]
  },
  {
   "cell_type": "code",
   "execution_count": 379,
   "metadata": {},
   "outputs": [],
   "source": [
    "df[\"AWS\"]= df['Other skills'].map(aws_to_dummy)\n"
   ]
  },
  {
   "cell_type": "code",
   "execution_count": 380,
   "metadata": {},
   "outputs": [],
   "source": [
    "def sql_to_dummy(skills):\n",
    "    if \"SQL\" in skills:\n",
    "        return 1\n",
    "    else :\n",
    "        return 0\n",
    "df[\"SQL\"]= df['Other skills'].map(sql_to_dummy)"
   ]
  },
  {
   "cell_type": "code",
   "execution_count": 381,
   "metadata": {},
   "outputs": [],
   "source": [
    "def nosql_to_dummy(skills):\n",
    "    if \"NoSQL\" in skills:\n",
    "        return 1\n",
    "    else :\n",
    "        return 0\n",
    "df[\"NoSQL\"]= df['Other skills'].map(nosql_to_dummy)"
   ]
  },
  {
   "cell_type": "code",
   "execution_count": 382,
   "metadata": {},
   "outputs": [],
   "source": [
    "def xl_to_dummy(skills):\n",
    "    if \"Excel\" in skills:\n",
    "        return 1\n",
    "    else :\n",
    "        return 0\n",
    "df[\"Excel\"]= df['Other skills'].map(xl_to_dummy)"
   ]
  },
  {
   "cell_type": "code",
   "execution_count": 383,
   "metadata": {},
   "outputs": [],
   "source": [
    "# deal with year, with 2020 getting highest weight, followed by 2019, and the rest in a particular weights"
   ]
  },
  {
   "cell_type": "code",
   "execution_count": 384,
   "metadata": {},
   "outputs": [],
   "source": [
    "def year_to_dummy(year):\n",
    "    if year == 2020:\n",
    "        return 3\n",
    "    elif year == 2019:\n",
    "        return 2\n",
    "    else:\n",
    "        return 1"
   ]
  },
  {
   "cell_type": "code",
   "execution_count": 385,
   "metadata": {},
   "outputs": [],
   "source": [
    "df[\"year\"]= df['Current Year Of Graduation'].map(year_to_dummy)"
   ]
  },
  {
   "cell_type": "code",
   "execution_count": 386,
   "metadata": {},
   "outputs": [
    {
     "name": "stdout",
     "output_type": "stream",
     "text": [
      "<class 'pandas.core.frame.DataFrame'>\n",
      "RangeIndex: 611 entries, 0 to 610\n",
      "Data columns (total 26 columns):\n",
      "Application_ID                611 non-null object\n",
      "Current City                  611 non-null object\n",
      "Python (out of 3)             611 non-null int64\n",
      "R Programming (out of 3)      611 non-null int64\n",
      "Data Science (out of 3)       611 non-null int64\n",
      "Other skills                  611 non-null object\n",
      "Institute                     611 non-null object\n",
      "Degree                        611 non-null object\n",
      "Stream                        580 non-null object\n",
      "Current Year Of Graduation    611 non-null int64\n",
      "Performance_PG                128 non-null object\n",
      "Performance_UG                533 non-null object\n",
      "Performance_12                363 non-null object\n",
      "Performance_10                339 non-null object\n",
      "Weight                        611 non-null int64\n",
      "type_of_degree_PG             611 non-null uint8\n",
      "type_of_degree_UG             611 non-null uint8\n",
      "ML                            611 non-null int64\n",
      "DL                            611 non-null int64\n",
      "NLP                           611 non-null int64\n",
      "SM                            611 non-null int64\n",
      "AWS                           611 non-null int64\n",
      "SQL                           611 non-null int64\n",
      "NoSQL                         611 non-null int64\n",
      "Excel                         611 non-null int64\n",
      "year                          611 non-null int64\n",
      "dtypes: int64(14), object(10), uint8(2)\n",
      "memory usage: 115.8+ KB\n"
     ]
    }
   ],
   "source": [
    "df.info()"
   ]
  },
  {
   "cell_type": "code",
   "execution_count": 387,
   "metadata": {},
   "outputs": [
    {
     "data": {
      "text/plain": [
       "Index(['Application_ID', 'Current City', 'Python (out of 3)',\n",
       "       'R Programming (out of 3)', 'Data Science (out of 3)', 'Other skills',\n",
       "       'Institute', 'Degree', 'Stream', 'Current Year Of Graduation',\n",
       "       'Performance_PG', 'Performance_UG', 'Performance_12', 'Performance_10',\n",
       "       'Weight', 'type_of_degree_PG', 'type_of_degree_UG', 'ML', 'DL', 'NLP',\n",
       "       'SM', 'AWS', 'SQL', 'NoSQL', 'Excel', 'year'],\n",
       "      dtype='object')"
      ]
     },
     "execution_count": 387,
     "metadata": {},
     "output_type": "execute_result"
    }
   ],
   "source": [
    "df.columns"
   ]
  },
  {
   "cell_type": "code",
   "execution_count": 388,
   "metadata": {},
   "outputs": [],
   "source": [
    "# Create X,y matrix for modelling, retain only required numeric fields, drop the rest"
   ]
  },
  {
   "cell_type": "code",
   "execution_count": null,
   "metadata": {
    "scrolled": true
   },
   "outputs": [],
   "source": [
    "X=df.drop(['Application_ID','Current City','Other skills', 'Institute', 'Degree', 'Stream','Current Year Of Graduation','Performance_PG', 'Performance_UG', 'Performance_12', 'Performance_10','Selected', 'Weight']  ,axis=1)\n",
    "y=df['Selected']"
   ]
  },
  {
   "cell_type": "code",
   "execution_count": 391,
   "metadata": {},
   "outputs": [
    {
     "data": {
      "text/plain": [
       "Index(['Python (out of 3)', 'R Programming (out of 3)',\n",
       "       'Data Science (out of 3)', 'type_of_degree_PG', 'type_of_degree_UG',\n",
       "       'ML', 'DL', 'NLP', 'SM', 'AWS', 'SQL', 'NoSQL', 'Excel', 'year'],\n",
       "      dtype='object')"
      ]
     },
     "execution_count": 391,
     "metadata": {},
     "output_type": "execute_result"
    }
   ],
   "source": [
    "X.columns"
   ]
  },
  {
   "cell_type": "code",
   "execution_count": 393,
   "metadata": {},
   "outputs": [
    {
     "data": {
      "text/plain": [
       "0    0\n",
       "1    0\n",
       "2    0\n",
       "3    0\n",
       "4    0\n",
       "Name: Selected, dtype: int64"
      ]
     },
     "execution_count": 393,
     "metadata": {},
     "output_type": "execute_result"
    }
   ],
   "source": [
    "y.head()"
   ]
  },
  {
   "cell_type": "markdown",
   "metadata": {},
   "source": [
    "## Logistic Regression Model for classification"
   ]
  },
  {
   "cell_type": "code",
   "execution_count": 394,
   "metadata": {
    "scrolled": true
   },
   "outputs": [],
   "source": [
    "import sklearn.model_selection as model_selection\n",
    "X_train,X_test,y_train,y_test=model_selection.train_test_split(X,y,test_size=0.2,random_state=200)"
   ]
  },
  {
   "cell_type": "code",
   "execution_count": 395,
   "metadata": {
    "scrolled": true
   },
   "outputs": [],
   "source": [
    "import sklearn.linear_model as linear_model\n",
    "clf=linear_model.LogisticRegression()"
   ]
  },
  {
   "cell_type": "code",
   "execution_count": 396,
   "metadata": {
    "scrolled": true
   },
   "outputs": [
    {
     "data": {
      "text/plain": [
       "LogisticRegression(C=1.0, class_weight=None, dual=False, fit_intercept=True,\n",
       "                   intercept_scaling=1, l1_ratio=None, max_iter=100,\n",
       "                   multi_class='auto', n_jobs=None, penalty='l2',\n",
       "                   random_state=None, solver='lbfgs', tol=0.0001, verbose=0,\n",
       "                   warm_start=False)"
      ]
     },
     "execution_count": 396,
     "metadata": {},
     "output_type": "execute_result"
    }
   ],
   "source": [
    "clf.fit(X,y)"
   ]
  },
  {
   "cell_type": "code",
   "execution_count": 397,
   "metadata": {
    "scrolled": true
   },
   "outputs": [],
   "source": [
    "predictions = clf.predict(X_test)"
   ]
  },
  {
   "cell_type": "code",
   "execution_count": 398,
   "metadata": {},
   "outputs": [],
   "source": [
    "from sklearn.metrics import accuracy_score"
   ]
  },
  {
   "cell_type": "code",
   "execution_count": 399,
   "metadata": {},
   "outputs": [
    {
     "data": {
      "text/plain": [
       "0.983739837398374"
      ]
     },
     "execution_count": 399,
     "metadata": {},
     "output_type": "execute_result"
    }
   ],
   "source": [
    "accuracy_score(y_test, predictions)"
   ]
  },
  {
   "cell_type": "markdown",
   "metadata": {},
   "source": [
    "## Create a pickle file"
   ]
  },
  {
   "cell_type": "code",
   "execution_count": 400,
   "metadata": {},
   "outputs": [
    {
     "name": "stdout",
     "output_type": "stream",
     "text": [
      "[0]\n"
     ]
    }
   ],
   "source": [
    "# Saving model to disk\n",
    "pickle.dump(clf, open('model.pkl','wb'))\n",
    "\n",
    "# Loading model to compare the results\n",
    "model = pickle.load(open('model.pkl','rb'))\n",
    "print(model.predict([[1,0,3,0,1,1,1,1,0,0,0,0,0,2]]))"
   ]
  },
  {
   "cell_type": "code",
   "execution_count": null,
   "metadata": {},
   "outputs": [],
   "source": []
  }
 ],
 "metadata": {
  "kernelspec": {
   "display_name": "Python 3",
   "language": "python",
   "name": "python3"
  },
  "language_info": {
   "codemirror_mode": {
    "name": "ipython",
    "version": 3
   },
   "file_extension": ".py",
   "mimetype": "text/x-python",
   "name": "python",
   "nbconvert_exporter": "python",
   "pygments_lexer": "ipython3",
   "version": "3.7.0"
  }
 },
 "nbformat": 4,
 "nbformat_minor": 2
}
